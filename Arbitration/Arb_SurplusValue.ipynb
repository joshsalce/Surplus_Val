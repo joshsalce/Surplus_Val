{
 "cells": [
  {
   "cell_type": "code",
   "execution_count": 1,
   "id": "83564f2c",
   "metadata": {},
   "outputs": [],
   "source": [
    "import pandas as pd\n",
    "import numpy as np\n",
    "import matplotlib.pyplot as plt\n",
    "import seaborn as sns\n",
    "\n",
    "from difflib import get_close_matches\n",
    "\n",
    "from sklearn.linear_model import LinearRegression\n",
    "import warnings\n",
    "warnings.filterwarnings('ignore')"
   ]
  },
  {
   "cell_type": "code",
   "execution_count": 2,
   "id": "fd3ff4c2",
   "metadata": {},
   "outputs": [],
   "source": [
    "!jt -t grade3"
   ]
  },
  {
   "cell_type": "code",
   "execution_count": 3,
   "id": "35857573",
   "metadata": {},
   "outputs": [],
   "source": [
    "arb18 = pd.read_csv('arb18.csv')\n",
    "arb19 = pd.read_csv('arb19.csv')\n",
    "arb20 = pd.read_csv('arb20.csv')\n",
    "arb21 = pd.read_csv('arb21.csv')\n",
    "arb22 = pd.read_csv('arb22.csv')\n",
    "arb23 = pd.read_csv('arb23.csv')"
   ]
  },
  {
   "cell_type": "markdown",
   "id": "538fef45",
   "metadata": {},
   "source": [
    "# Clean Data"
   ]
  },
  {
   "cell_type": "code",
   "execution_count": 4,
   "id": "762aa00a",
   "metadata": {},
   "outputs": [],
   "source": [
    "def clean_data(data):\n",
    "    filter_cols = ['Player', 'Season', 'Club', \"Pos'n\", \n",
    "                   'MLS','Prev. Salary', 'New Salary']\n",
    "    data = data[filter_cols].iloc[1:,:]\n",
    "    \n",
    "    \n",
    "    # Mapping league minimum values based on season\n",
    "    salary_mapping = {\n",
    "        2018: 545000, 2019: 555000, 2020: 563500, 2021: 570500, 2022: 700000, 2023: 720000\n",
    "    }\n",
    "    \n",
    "    data['Prev. Salary'] = pd.to_numeric(data['Prev. Salary'].str.replace(\n",
    "        '[\\$,]', '', regex=True), errors='coerce')\n",
    "    data['New Salary'] = pd.to_numeric(data['New Salary'].str.replace(\n",
    "        '[\\$,]', '', regex=True), errors='coerce')\n",
    "    \n",
    "    # Fill NA values of previous salary with league minimum for seasons\n",
    "    data['Prev. Salary'] = data.apply(\n",
    "        lambda row: salary_mapping[row['Season']] if pd.isna(row['Prev. Salary']) else row['Prev. Salary'], axis=1)\n",
    "\n",
    "    ret_data = data.drop('Club',axis=1)\n",
    "    \n",
    "    ret_data['Player'] = ret_data.apply(lambda row: row['Player'].split(', ')[1] + ' ' + row['Player'].split(', ')[0], axis = 1)\n",
    "    ret_data['Season'] = ret_data['Season'] -1\n",
    "    ret_data['MLS'] = ret_data['MLS'].round(0)\n",
    "    return ret_data.iloc[1:,:]\n",
    "    \n",
    "    "
   ]
  },
  {
   "cell_type": "code",
   "execution_count": 5,
   "id": "44fbc76a",
   "metadata": {},
   "outputs": [],
   "source": [
    "arb18_clean = clean_data(arb18)\n",
    "arb19_clean = clean_data(arb19)\n",
    "arb20_clean = clean_data(arb20)\n",
    "arb21_clean = clean_data(arb21)\n",
    "arb22_clean = clean_data(arb22)\n",
    "arb23_clean = clean_data(arb23)"
   ]
  },
  {
   "cell_type": "code",
   "execution_count": 6,
   "id": "4856aa6a",
   "metadata": {},
   "outputs": [],
   "source": [
    "all_arb_data = pd.concat([arb18_clean,arb19_clean,arb20_clean,\n",
    "                          arb21_clean,arb22_clean,arb23_clean]).dropna()"
   ]
  },
  {
   "cell_type": "markdown",
   "id": "a10c6b14",
   "metadata": {},
   "source": [
    "# WAR, career WAR Data\n",
    "https://www.fangraphs.com/leaders/major-league?pos=all&stats=pit&lg=all&type=c%2C7%2C8%2C13%2C59&ind=1&v_cr=202301&startdate=&enddate=&month=0&qual=1&season1=2010&season=2023"
   ]
  },
  {
   "cell_type": "code",
   "execution_count": 7,
   "id": "bff4db19",
   "metadata": {},
   "outputs": [],
   "source": [
    "sp_arb = all_arb_data[all_arb_data[\"Pos'n\"].isin(['rhp-s','lhp-s'])]"
   ]
  },
  {
   "cell_type": "code",
   "execution_count": 8,
   "id": "a3a94e22",
   "metadata": {},
   "outputs": [],
   "source": [
    "war_data = pd.read_csv('war_data.csv')\n",
    "# Custom function to replace decimals\n",
    "def replace_decimals(value):\n",
    "    decimal_part = round(value - int(value),1)\n",
    "    if decimal_part == 0.1:\n",
    "        return int(value) + 0.33\n",
    "    elif decimal_part == 0.2:\n",
    "        return int(value) + 0.66\n",
    "    else:\n",
    "        return value\n",
    "\n",
    "# Apply the custom function to the specified column\n",
    "war_data['IP'] = war_data.apply(lambda row: replace_decimals(row['IP']), axis=1)\n",
    "\n",
    "war_data = war_data.rename(columns = {'Name': 'Player'})\n",
    "war_df = war_data[['Season','Player','GS','IP','WAR']].sort_values(['Player','Season'])"
   ]
  },
  {
   "cell_type": "code",
   "execution_count": 9,
   "id": "b6805c71",
   "metadata": {},
   "outputs": [],
   "source": [
    "find_closest_match = lambda name, choices: get_close_matches(name, choices, n=1)[0]\n",
    "# Apply the function to find the closest match\n",
    "sp_arb['Player'] = sp_arb['Player'].apply(lambda x: find_closest_match(x, list(war_df['Player'])))\n",
    "\n",
    "# Calculate the cumulative sum for each pitcher\n",
    "war_df['Cumu_WAR'] = war_df.sort_values(['Player','Season']).groupby('Player')['WAR'].cumsum()\n",
    "# Merge the two DataFrames based on 'Player' and 'Seaons'\n",
    "merged_df = pd.merge(sp_arb, war_df, on=['Player', 'Season'], how='left').dropna()"
   ]
  },
  {
   "cell_type": "markdown",
   "id": "78526f6d",
   "metadata": {},
   "source": [
    "# Linear Regression of Salaries, per Year"
   ]
  },
  {
   "cell_type": "code",
   "execution_count": 10,
   "id": "637ec676",
   "metadata": {},
   "outputs": [
    {
     "data": {
      "text/plain": [
       "3.0    93\n",
       "4.0    74\n",
       "5.0    49\n",
       "2.0    24\n",
       "Name: MLS, dtype: int64"
      ]
     },
     "execution_count": 10,
     "metadata": {},
     "output_type": "execute_result"
    }
   ],
   "source": [
    "merged_df.MLS.value_counts()"
   ]
  },
  {
   "cell_type": "code",
   "execution_count": 11,
   "id": "f8819933",
   "metadata": {},
   "outputs": [],
   "source": [
    "X_cols = ['Prev. Salary','GS','IP','WAR','Cumu_WAR']\n",
    "y_col = ['New Salary']\n",
    "\n",
    "fourth_year = merged_df[merged_df.MLS == 3]\n",
    "fifth_year = merged_df[merged_df.MLS == 4]\n",
    "sixth_year = merged_df[merged_df.MLS == 5]"
   ]
  },
  {
   "cell_type": "code",
   "execution_count": 12,
   "id": "dd5d43df",
   "metadata": {},
   "outputs": [],
   "source": [
    "lin_reg_arb1 = LinearRegression().fit(fourth_year[X_cols], fourth_year[y_col])\n",
    "lin_reg_arb2 = LinearRegression().fit(fifth_year[X_cols], fifth_year[y_col])\n",
    "lin_reg_arb3 = LinearRegression().fit(sixth_year[X_cols], sixth_year[y_col])"
   ]
  },
  {
   "cell_type": "markdown",
   "id": "151c9fda",
   "metadata": {},
   "source": [
    "# Predictions on Jesús Luzardo\n",
    "\n",
    "Assumptions:\n",
    "   - Luzardo will produce ~10 WAR over next three seasons (3.3 projected fWAR in 2024), average 3.3 WAR\n",
    "   - Luzardo will throw 180 IP each of next three seasons with 30 GS"
   ]
  },
  {
   "cell_type": "code",
   "execution_count": 13,
   "id": "e8c787ba",
   "metadata": {},
   "outputs": [],
   "source": [
    "def round_salary(number):\n",
    "    return round(number / 100000) * 100000"
   ]
  },
  {
   "cell_type": "code",
   "execution_count": 14,
   "id": "3c1c051c",
   "metadata": {},
   "outputs": [],
   "source": [
    "luzardo_23 = war_df[(war_df.Player == 'Jesús Luzardo') & (war_df.Season == 2023)].reset_index(drop=True)\n",
    "luzardo_23.loc[0,'Prev. Salary'] = 2650000\n",
    "luzardo_23 = luzardo_23[['Prev. Salary','GS','IP','WAR','Cumu_WAR']]"
   ]
  },
  {
   "cell_type": "code",
   "execution_count": 15,
   "id": "e69d3c7c",
   "metadata": {},
   "outputs": [
    {
     "name": "stdout",
     "output_type": "stream",
     "text": [
      "Jesús Luzardo, 4th year salary: 5400000\n",
      "Jesús Luzardo, 4th year Surplus Value: 24300000\n"
     ]
    }
   ],
   "source": [
    "fourth_year_pred = round_salary(lin_reg_arb1.predict(luzardo_23)[0][0])\n",
    "print('Jesús Luzardo, 4th year salary:', fourth_year_pred)\n",
    "\n",
    "fourth_year_sv = round_salary(int((luzardo_23['WAR']*8000000) - fourth_year_pred))\n",
    "print('Jesús Luzardo, 4th year Surplus Value:', fourth_year_sv)"
   ]
  },
  {
   "cell_type": "code",
   "execution_count": 16,
   "id": "1f4d8faa",
   "metadata": {},
   "outputs": [
    {
     "name": "stdout",
     "output_type": "stream",
     "text": [
      "Jesús Luzardo, 5th year salary: 8700000\n",
      "Jesús Luzardo, 5th year Surplus Value: 17700000\n"
     ]
    }
   ],
   "source": [
    "fifth_year_input = [[fourth_year_pred, 30, 180, 3.3, luzardo_23['Cumu_WAR'][0] + 3.3]]\n",
    "fifth_year_pred = round_salary(lin_reg_arb2.predict(fifth_year_input)[0][0])\n",
    "print('Jesús Luzardo, 5th year salary:', fifth_year_pred)\n",
    "\n",
    "fifth_year_sv = round_salary(int((3.3*8000000) - fifth_year_pred))\n",
    "print('Jesús Luzardo, 5th year Surplus Value:', fifth_year_sv)"
   ]
  },
  {
   "cell_type": "code",
   "execution_count": 17,
   "id": "6150eb94",
   "metadata": {},
   "outputs": [
    {
     "name": "stdout",
     "output_type": "stream",
     "text": [
      "Jesús Luzardo, 6th year salary: 14400000\n",
      "Jesús Luzardo, 5th year Surplus Value: 12000000\n"
     ]
    }
   ],
   "source": [
    "sixth_year_input = [[fifth_year_pred, 30, 180, 3.3, luzardo_23['Cumu_WAR'][0] + 6.6]]\n",
    "sixth_year_pred = round_salary(lin_reg_arb3.predict(sixth_year_input)[0][0])\n",
    "print('Jesús Luzardo, 6th year salary:', sixth_year_pred)\n",
    "\n",
    "sixth_year_sv = round_salary(int((3.3*8000000) - sixth_year_pred))\n",
    "print('Jesús Luzardo, 5th year Surplus Value:', sixth_year_sv)"
   ]
  },
  {
   "cell_type": "code",
   "execution_count": 18,
   "id": "14ace69b",
   "metadata": {},
   "outputs": [
    {
     "name": "stdout",
     "output_type": "stream",
     "text": [
      "Total Surplus Value: 54000000\n"
     ]
    }
   ],
   "source": [
    "print('Total Surplus Value:', fourth_year_sv + fifth_year_sv + sixth_year_sv)"
   ]
  },
  {
   "cell_type": "code",
   "execution_count": null,
   "id": "2ecf60a6",
   "metadata": {},
   "outputs": [],
   "source": []
  }
 ],
 "metadata": {
  "kernelspec": {
   "display_name": "Python 3 (ipykernel)",
   "language": "python",
   "name": "python3"
  },
  "language_info": {
   "codemirror_mode": {
    "name": "ipython",
    "version": 3
   },
   "file_extension": ".py",
   "mimetype": "text/x-python",
   "name": "python",
   "nbconvert_exporter": "python",
   "pygments_lexer": "ipython3",
   "version": "3.11.3"
  }
 },
 "nbformat": 4,
 "nbformat_minor": 5
}
